{
 "cells": [
  {
   "cell_type": "markdown",
   "metadata": {},
   "source": [
    "### Caminos cortos\n",
    "\n",
    "Vamos a considerar un grafo G, orientado, sin ciclos, con vértices V y bordes E. Cada camino tiene un peso/costo/tiempo $w(u,v)$.\n",
    "\n",
    "Quiero encontrar el camino mas corto entre dos vértices, s y v. \n",
    "\n",
    "2.** Adivinar: **\n",
    "Voy a adivinar el último vértice:\n",
    "    \n",
    "<img src='forwardDP.jpg' width=\"600\" height=\"350\">\n",
    "\n",
    "1.** Subproblemas: ** \n",
    "\n",
    "Los subproblemas son prefijos $<s, ..., u>$\n",
    " \n",
    "3.** Recurrencia **\n",
    "\n",
    "$\\Delta(s,v)$ := costo de viajar desde s hasta v.  \n",
    "\n",
    "Para cada $(v, u) \\in E$:\n",
    "\n",
    "$$ \\Large \\Delta(s,v) = 1 + \\Delta(s,u)  $$ \n",
    "\n",
    "4.** Resolver de manera Iterativa y Guardar**\n",
    "\n",
    "Qué tan buen es este algoritmo? Malo, pero puedes guardar la info.  \n",
    "\n",
    "Tiempo para cada subproblema: $indeg(u)$\n",
    "\n",
    "Número de subproblemas: $|V|$\n",
    "\n",
    "$$ \\Large \\text{Tiempo total} = \\sum\\limits_{u \\in V} indeg(u) = \\left|E \\right| $$\n",
    "\n",
    "5.** Problema Original **"
   ]
  },
  {
   "cell_type": "code",
   "execution_count": 3,
   "metadata": {
    "collapsed": true
   },
   "outputs": [],
   "source": [
    "import numpy as np"
   ]
  },
  {
   "cell_type": "markdown",
   "metadata": {},
   "source": [
    "### Formas de representar un grafo \n",
    "\n",
    "Estudiemos:\n",
    "\n",
    "<img src='g1.jpg' width=\"500\" height=\"350\">\n",
    "\n",
    "<img src='reps.jpg' width=\"800\" height=\"350\">\n"
   ]
  },
  {
   "cell_type": "code",
   "execution_count": 4,
   "metadata": {
    "collapsed": true
   },
   "outputs": [],
   "source": [
    "# Rep. Matricial\n",
    "M = np.array([[0, 1, 0], \n",
    "    [0, 0, 0], \n",
    "    [1, 0, 0]])"
   ]
  },
  {
   "cell_type": "code",
   "execution_count": 5,
   "metadata": {},
   "outputs": [
    {
     "data": {
      "text/plain": [
       "{'a': {'b'}, 'b': set(), 'c': {'a'}}"
      ]
     },
     "execution_count": 5,
     "metadata": {},
     "output_type": "execute_result"
    }
   ],
   "source": [
    "# Linked List\n",
    "names = np.array(['a', 'b', 'c'])\n",
    "Adj = {}\n",
    "\n",
    "for i, u in enumerate(names):\n",
    "    Adj[u] = set(names[M[i] == 1])  \n",
    "    \n",
    "Adj"
   ]
  },
  {
   "cell_type": "code",
   "execution_count": 6,
   "metadata": {},
   "outputs": [
    {
     "data": {
      "text/plain": [
       "dict_keys(['a', 'b', 'c'])"
      ]
     },
     "execution_count": 6,
     "metadata": {},
     "output_type": "execute_result"
    }
   ],
   "source": [
    "Adj.keys()"
   ]
  },
  {
   "cell_type": "markdown",
   "metadata": {
    "collapsed": true
   },
   "source": [
    "#### Forward DP "
   ]
  },
  {
   "cell_type": "code",
   "execution_count": 7,
   "metadata": {
    "collapsed": true
   },
   "outputs": [],
   "source": [
    "level = {'c' : 0}\n",
    "parent = {'c' : None}\n",
    "i = 1\n",
    "\n",
    "frontier = ['c']\n",
    "nextL = []\n",
    "\n",
    "while frontier:\n",
    "    nextL = []\n",
    "    for u in frontier:\n",
    "        for v in Adj[u]:\n",
    "            if v not in level: \n",
    "                parent[v] = u\n",
    "                level[v] = i\n",
    "                nextL.append(v)\n",
    "    frontier = nextL\n",
    "    i = i + 1"
   ]
  },
  {
   "cell_type": "code",
   "execution_count": 8,
   "metadata": {},
   "outputs": [
    {
     "data": {
      "text/plain": [
       "{'a': 1, 'b': 2, 'c': 0}"
      ]
     },
     "execution_count": 8,
     "metadata": {},
     "output_type": "execute_result"
    }
   ],
   "source": [
    "level"
   ]
  },
  {
   "cell_type": "code",
   "execution_count": 9,
   "metadata": {},
   "outputs": [
    {
     "data": {
      "text/plain": [
       "{'a': 'c', 'b': 'a', 'c': None}"
      ]
     },
     "execution_count": 9,
     "metadata": {},
     "output_type": "execute_result"
    }
   ],
   "source": [
    "parent"
   ]
  },
  {
   "cell_type": "code",
   "execution_count": 10,
   "metadata": {
    "collapsed": true
   },
   "outputs": [],
   "source": [
    "def bfs(s, Adj):\n",
    "    ''' \n",
    "    Breath First Search: \n",
    "        Explore the graph layer by layer. \n",
    "\n",
    "    inputs: \n",
    "        s: string with the name of the starting node\n",
    "        Adj: adjacency list of the graph.\n",
    "    outpus: \n",
    "        parent: dictionary with the parents of each node reachable from s.\n",
    "        level: dictionary with the distances from s to nodes. \n",
    "\n",
    "    '''\n",
    "    level = {s : 0}\n",
    "    parent = {s : None}\n",
    "    i = 1\n",
    "\n",
    "    frontier = [s]\n",
    "    nextL = []\n",
    "\n",
    "    while frontier:\n",
    "        nextL = []\n",
    "        for u in frontier:\n",
    "            for v in Adj[u]:\n",
    "                if v not in level: \n",
    "                    parent[v] = u\n",
    "                    level[v] = i\n",
    "                    nextL.append(v)\n",
    "        frontier = nextL\n",
    "        i = i + 1\n",
    "    \n",
    "    return(level, parent)"
   ]
  },
  {
   "cell_type": "code",
   "execution_count": 11,
   "metadata": {},
   "outputs": [
    {
     "name": "stdout",
     "output_type": "stream",
     "text": [
      "Help on function bfs in module __main__:\n",
      "\n",
      "bfs(s, Adj)\n",
      "    Breath First Search: \n",
      "        Explore the graph layer by layer. \n",
      "    \n",
      "    inputs: \n",
      "        s: string with the name of the starting node\n",
      "        Adj: adjacency list of the graph.\n",
      "    outpus: \n",
      "        parent: dictionary with the parents of each node reachable from s.\n",
      "        level: dictionary with the distances from s to nodes.\n",
      "\n"
     ]
    }
   ],
   "source": [
    "help(bfs)"
   ]
  },
  {
   "cell_type": "code",
   "execution_count": 12,
   "metadata": {},
   "outputs": [
    {
     "data": {
      "text/plain": [
       "({'a': 1, 'b': 2, 'c': 0}, {'a': 'c', 'b': 'a', 'c': None})"
      ]
     },
     "execution_count": 12,
     "metadata": {},
     "output_type": "execute_result"
    }
   ],
   "source": [
    "bfs('c', Adj)"
   ]
  },
  {
   "cell_type": "markdown",
   "metadata": {},
   "source": [
    "<img src='g2.jpg' width=\"500\" height=\"350\">\n"
   ]
  },
  {
   "cell_type": "code",
   "execution_count": 13,
   "metadata": {
    "collapsed": true
   },
   "outputs": [],
   "source": [
    "M = np.array([[0, 1, 1, 0, 0], \n",
    "              [0, 0, 1, 1, 0], \n",
    "              [0, 0, 0, 0, 1],\n",
    "              [0, 0, 1, 0, 0],\n",
    "              [0, 0, 0, 0, 0]])"
   ]
  },
  {
   "cell_type": "code",
   "execution_count": 14,
   "metadata": {},
   "outputs": [
    {
     "data": {
      "text/plain": [
       "{'a': {'b', 'c'}, 'b': {'c', 'd'}, 'c': {'e'}, 'd': {'c'}, 'e': set()}"
      ]
     },
     "execution_count": 14,
     "metadata": {},
     "output_type": "execute_result"
    }
   ],
   "source": [
    "names = np.array(['a', 'b', 'c', 'd', 'e'])\n",
    "Adj = {}\n",
    "\n",
    "for i, u in enumerate(names):\n",
    "    Adj[u] = set(names[M[i] == 1])  \n",
    "    \n",
    "Adj"
   ]
  },
  {
   "cell_type": "code",
   "execution_count": 18,
   "metadata": {},
   "outputs": [
    {
     "data": {
      "text/plain": [
       "({'a': 0, 'b': 1, 'c': 1, 'd': 2, 'e': 2},\n",
       " {'a': None, 'b': 'a', 'c': 'a', 'd': 'b', 'e': 'c'})"
      ]
     },
     "execution_count": 18,
     "metadata": {},
     "output_type": "execute_result"
    }
   ],
   "source": [
    "bfs('a', Adj)"
   ]
  },
  {
   "cell_type": "markdown",
   "metadata": {},
   "source": [
    "# Depth First Search"
   ]
  },
  {
   "cell_type": "code",
   "execution_count": 25,
   "metadata": {},
   "outputs": [],
   "source": [
    "def DFS_visit(Adj, s):\n",
    "    ''' \n",
    "    Explore all the vertices reachable from s. \n",
    "    \n",
    "    inputs: \n",
    "        s: string with the name of the starting node.\n",
    "        Adj: adjacency list of the graph.\n",
    "    output: \n",
    "        parent: dictionary with the parents of each node reachable from s.\n",
    "    '''\n",
    "    for v in Adj[s]:\n",
    "        if v not in parent:\n",
    "            parent[v] = s\n",
    "            DFS_visit(Adj, v)\n",
    "    return(parent)"
   ]
  },
  {
   "cell_type": "code",
   "execution_count": null,
   "metadata": {
    "collapsed": true
   },
   "outputs": [],
   "source": [
    "def DFS(V, Adj):\n",
    "    parent = {}\n",
    "    for s in V:\n",
    "        if s not in parent: \n",
    "            parent[s] = None\n",
    "            DFS_visit(Adj, s)"
   ]
  },
  {
   "cell_type": "markdown",
   "metadata": {},
   "source": [
    "<img src='DFS_ex.png' width=\"800\" height=\"700\">"
   ]
  },
  {
   "cell_type": "code",
   "execution_count": 22,
   "metadata": {},
   "outputs": [
    {
     "data": {
      "text/plain": [
       "array([[0, 1, 0, 1, 0, 0],\n",
       "       [0, 0, 0, 0, 1, 0],\n",
       "       [0, 0, 0, 0, 1, 1],\n",
       "       [0, 1, 0, 0, 0, 0],\n",
       "       [0, 0, 0, 0, 0, 0],\n",
       "       [0, 0, 0, 0, 0, 1]])"
      ]
     },
     "execution_count": 22,
     "metadata": {},
     "output_type": "execute_result"
    }
   ],
   "source": [
    "M = np.array([[0, 1, 0, 1, 0, 0], \n",
    "              [0, 0, 0, 0, 1, 0], \n",
    "              [0, 0, 0, 0, 1, 1],\n",
    "              [0, 1, 0, 0, 0, 0],\n",
    "              [0, 0, 0, 0, 0, 0],\n",
    "              [0, 0, 0, 0, 0, 1]])\n",
    "M"
   ]
  },
  {
   "cell_type": "code",
   "execution_count": 24,
   "metadata": {},
   "outputs": [
    {
     "data": {
      "text/plain": [
       "{'a': {'b', 'd'},\n",
       " 'b': {'e'},\n",
       " 'c': {'e', 'f'},\n",
       " 'd': {'b'},\n",
       " 'e': set(),\n",
       " 'f': {'f'}}"
      ]
     },
     "execution_count": 24,
     "metadata": {},
     "output_type": "execute_result"
    }
   ],
   "source": [
    "names = np.array(['a', 'b', 'c', 'd', 'e', 'f'])\n",
    "Adj = {}\n",
    "\n",
    "for i, u in enumerate(names):\n",
    "    Adj[u] = set(names[M[i] == 1])  \n",
    "    \n",
    "Adj"
   ]
  },
  {
   "cell_type": "code",
   "execution_count": 27,
   "metadata": {
    "collapsed": true
   },
   "outputs": [],
   "source": [
    "parent = {'a' : None}"
   ]
  },
  {
   "cell_type": "code",
   "execution_count": 28,
   "metadata": {
    "collapsed": true
   },
   "outputs": [],
   "source": [
    "DFS_visit(Adj, 'a')"
   ]
  },
  {
   "cell_type": "markdown",
   "metadata": {},
   "source": [
    "## Dynamic Programming en 5 pasos fáciles:\n",
    "\n",
    "1. Definir los **SUBPROBLEMA** - # de subproblemas SP.\n",
    "2. **ADIVINAR/PROBAR** una parte de la solución - # de opciones. \n",
    "3. **RELACIONAR** los subproblemas con la solución.\n",
    "4. Resolver de manera **ITERATIVA y GUARDAR** - Construir la tabla desde abajo.\n",
    "5. Resolver el problema original. \n",
    "\n",
    "\n",
    "Complejidad: \n",
    "\n",
    "$$ \\Large\n",
    "O \\left( SP \\times (\\text{costo resolver SP})\\right)\n",
    "$$\n",
    "\n",
    "\n",
    "En general los subproblemas son:\n",
    "\n",
    "- **Subfijos** $x[:j]$ - lienal $O(n)$, \n",
    "- **Prefijos** $x[i:]$ - lienal $O(n)$,\n",
    "- **Substrings** $x[i:j]$ - ploinomial $O(n^2)$.\n",
    "\n",
    "<img src='Zorn_Cachucha.jpg' width=\"600\" height=\"350\">\n"
   ]
  }
 ],
 "metadata": {
  "kernelspec": {
   "display_name": "Python 3",
   "language": "python",
   "name": "python3"
  },
  "language_info": {
   "codemirror_mode": {
    "name": "ipython",
    "version": 3
   },
   "file_extension": ".py",
   "mimetype": "text/x-python",
   "name": "python",
   "nbconvert_exporter": "python",
   "pygments_lexer": "ipython3",
   "version": "3.6.2"
  }
 },
 "nbformat": 4,
 "nbformat_minor": 2
}
