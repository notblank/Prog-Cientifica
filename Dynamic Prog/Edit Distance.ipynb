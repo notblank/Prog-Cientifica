{
 "cells": [
  {
   "cell_type": "markdown",
   "metadata": {
    "collapsed": true
   },
   "source": [
    "## Edit Distance\n",
    "\n",
    "El problema general es si tengo dos secuencias de caracteres - $x$, $y$ - cuál es la forma mas barata de convertir $x$ en $y$ si las operaciones permitidas son: \n",
    "\n",
    "- Insertar un caracter.\n",
    "- Borrar un caracter.\n",
    "- Reemplazar un caracter por otro.\n",
    "\n",
    "Los costos de cada operación están definidos de antemano. \n",
    "\n",
    "### Una aplicación de edit distance: \n",
    "\n",
    "Tengo dos palabras: \n",
    "\n",
    "1. Heroglyphology\n",
    "2. Michaelangelo \n",
    "\n",
    "Cuál es la sequencia de letras común mas grande?\n",
    "\n",
    "\n",
    "Para escribir este problema en términos de edit distance definamos los siguientes costos: \n",
    "\n",
    "1. Insertar $y[j]$ antes de $x[i]$ cuesta $1$.\n",
    "2. Borrar $x[i]$ cuesta $1$.\n",
    "3. Reemplazar $x[i]$ con $y[j]$ cuesta $0$ si son iguales, $ + \\infty$ sino.\n",
    "\n",
    "\n",
    "La idea de las operaciones es la siguiente. Queremos transformar $x$ en $y$: \n",
    "\n",
    "- La primera es equivalente a borrar la letra $y[j]$ de $y$. \n",
    "- La segunda borra $x[i]$ de $x$.\n",
    "- La tercera sirve para reconocer si $x[i]$ y $y[j]$ son iguales y pasar a $x[: i+1]$ y $y[: j+1]$.\n"
   ]
  },
  {
   "cell_type": "markdown",
   "metadata": {},
   "source": [
    "### El programa: \n",
    "\n",
    "Voy a usar palabras mas simples: \n",
    "\n",
    "1. x = halo \n",
    "2. y = lo\n",
    "\n",
    "La idea es la siguiente: Vamos a comparar las palabras desde el final. \n",
    "\n",
    "\n",
    "Luego de algunos pasos del algoritmo llego a la siguiente configuración: \n",
    "\n",
    "<img src='prefix.jpg' width=\"400\" height=\"350\">\n",
    "\n",
    "El siguiente paso es comparar $x[i]$ con $y[j]$, tengo tres opciones: \n",
    "\n",
    "- borrar $x[i]$,\n",
    "- insertar $y[j]$,\n",
    "- reemplazar $x[i]$ con $y[j]$.\n",
    "\n",
    "\n",
    "Podemos minimizar la última operación: \n",
    "\n",
    "$$  \n",
    "\\begin{align*}\n",
    "cost[i, j] = \\min ( \\ \n",
    " &\\text{borrar} \\ x[i] + cost[i+1, \\ j], \\\\\n",
    " &\\text{insertar} \\ y[j] + cost[i, \\ j+1], \\\\\n",
    " &\\text{reemplazar} \\ x[i] \\rightarrow y[j] + cost[i+1, \\ j+1] \n",
    "\\end{align*}\n",
    "$$  \n",
    "\n",
    "El costo de cada estado es el costo de la última operación mas el costo de haber llegado a la configuración original. \n"
   ]
  },
  {
   "cell_type": "markdown",
   "metadata": {},
   "source": [
    "Si comenzamos desde el final tenemos: \n",
    "\n",
    "<img src='proc.png' width=\"500\" height=\"350\">\n",
    "\n",
    "La tabla completa: \n",
    "\n",
    "<table>\n",
    "    <tr>\n",
    "        <td>  </td>\n",
    "        <td> H </td>\n",
    "        <td> A </td>\n",
    "        <td> L </td>\n",
    "        <td> O </td>\n",
    "        <td> - </td>\n",
    "    </tr>\n",
    "    <tr>\n",
    "        <td> L </td>\n",
    "        <td> 2 $\\rightarrow$  </td>\n",
    "        <td> 1  $\\rightarrow$ </td>\n",
    "        <td> 0  $\\searrow$   </td>\n",
    "        <td> 1  $\\downarrow$ </td>\n",
    "        <td> 2  $\\downarrow$ </td>\n",
    "    </tr>\n",
    "    <tr>\n",
    "        <td> O </td>\n",
    "        <td> 3 $\\rightarrow$</td>\n",
    "        <td> 2 $\\rightarrow$</td>\n",
    "        <td> 1 $\\rightarrow$</td>\n",
    "        <td> 0 $\\searrow$</td>\n",
    "        <td> 1 $\\downarrow$</td>\n",
    "    </tr>\n",
    "    <tr>\n",
    "        <td> - </td>\n",
    "        <td> 4 $\\rightarrow$</td>\n",
    "        <td> 3 $\\rightarrow$</td>\n",
    "        <td> 2 $\\rightarrow$</td>\n",
    "        <td> 1 $\\rightarrow$</td>\n",
    "        <td> 0 </td>\n",
    "    </tr>\n",
    "</table>"
   ]
  },
  {
   "cell_type": "markdown",
   "metadata": {},
   "source": [
    "La posición $i, \\ j$ contiene el costo de comparar $x[i:]$ con $y[j:]$. Las flechas muestan la solución que minimiza el paso $i, \\ j $. "
   ]
  },
  {
   "cell_type": "code",
   "execution_count": 15,
   "metadata": {},
   "outputs": [
    {
     "name": "stdout",
     "output_type": "stream",
     "text": [
      "x= ['h', 'a', 'l', 'o', '-'] \n",
      "y= ['l', 'o', '-']\n"
     ]
    }
   ],
   "source": [
    "x = list('halo-')\n",
    "y = list('lo-')\n",
    "\n",
    "print('x=', x, '\\ny=', y)"
   ]
  },
  {
   "cell_type": "code",
   "execution_count": 276,
   "metadata": {
    "collapsed": true
   },
   "outputs": [],
   "source": [
    "import numpy as np"
   ]
  },
  {
   "cell_type": "code",
   "execution_count": 17,
   "metadata": {
    "collapsed": true
   },
   "outputs": [],
   "source": [
    "erase_x = 1\n",
    "insert_y = 1"
   ]
  },
  {
   "cell_type": "code",
   "execution_count": 18,
   "metadata": {
    "collapsed": true
   },
   "outputs": [],
   "source": [
    "nx = len(x)\n",
    "ny = len(y)\n",
    "\n",
    "cost = np.zeros((ny, nx))  # store min\n",
    "moves = np.zeros((ny, nx)) # store argmin"
   ]
  },
  {
   "cell_type": "code",
   "execution_count": 19,
   "metadata": {},
   "outputs": [
    {
     "name": "stdout",
     "output_type": "stream",
     "text": [
      "[ 4.  3.  2.  1.  0.]\n",
      "[ 2.  1.  0.]\n"
     ]
    }
   ],
   "source": [
    "# llenar la última fila: \n",
    "for i in reversed(range(nx-1)):\n",
    "    cost[ny-1, i] = erase_x + cost[ny-1, i+1]\n",
    "\n",
    "print(cost[ny-1, :])\n",
    "\n",
    "\n",
    "# llenar la última columna: \n",
    "for j in reversed(range(ny-1)):\n",
    "    cost[j, nx-1] = insert_y + cost[j+1, nx-1]\n",
    "\n",
    "print(cost[:, nx-1])\n"
   ]
  },
  {
   "cell_type": "code",
   "execution_count": 20,
   "metadata": {
    "collapsed": true
   },
   "outputs": [],
   "source": [
    "for j in reversed(range(ny-1)):\n",
    "    for i in reversed(range(nx-1)):\n",
    "        if x[i] == y[j]:\n",
    "            match = 0\n",
    "        else:\n",
    "            match = np.inf\n",
    "            \n",
    "        cost[j, i] = min(match + cost[j+1, i+1],\n",
    "                erase_x + cost[j, i+1], \n",
    "                insert_y + cost[j+1, i])"
   ]
  },
  {
   "cell_type": "code",
   "execution_count": 21,
   "metadata": {},
   "outputs": [
    {
     "data": {
      "text/plain": [
       "array([[ 2.,  1.,  0.,  1.,  2.],\n",
       "       [ 3.,  2.,  1.,  0.,  1.],\n",
       "       [ 4.,  3.,  2.,  1.,  0.]])"
      ]
     },
     "execution_count": 21,
     "metadata": {},
     "output_type": "execute_result"
    }
   ],
   "source": [
    "cost"
   ]
  },
  {
   "cell_type": "markdown",
   "metadata": {},
   "source": [
    "### Guardar los movimientos\n",
    "\n",
    "Necesito 2 tablas: una para los costos y otra para las operaciones (flechas).\n",
    "\n",
    "<table>\n",
    "    <tr>\n",
    "        <td>  </td>\n",
    "        <td> H </td>\n",
    "        <td> A </td>\n",
    "        <td> L </td>\n",
    "        <td> O </td>\n",
    "        <td> - </td>\n",
    "    </tr>\n",
    "    <tr>\n",
    "        <td> L </td>\n",
    "        <td> 1 </td>\n",
    "        <td> 1 </td>\n",
    "        <td> 0 </td>\n",
    "        <td> 1 </td>\n",
    "        <td> 2 </td>\n",
    "    </tr>\n",
    "    <tr>\n",
    "        <td> O </td>\n",
    "        <td> 3 </td>\n",
    "        <td> 2 </td>\n",
    "        <td> 1 </td>\n",
    "        <td> 0 </td>\n",
    "        <td> 1 </td>\n",
    "    </tr>\n",
    "    <tr>\n",
    "        <td> - </td>\n",
    "        <td> 4 </td>\n",
    "        <td> 3 </td>\n",
    "        <td> 2 </td>\n",
    "        <td> 1 </td>\n",
    "        <td> 0 </td>\n",
    "    </tr>\n",
    "</table>\n",
    "\n",
    "<table>\n",
    "    <tr>\n",
    "        <td>  </td>\n",
    "        <td> H </td>\n",
    "        <td> A </td>\n",
    "        <td> L </td>\n",
    "        <td> O </td>\n",
    "        <td> - </td>\n",
    "    </tr>\n",
    "    <tr>\n",
    "        <td> L </td>\n",
    "        <td> $\\rightarrow$  </td>\n",
    "        <td> $\\rightarrow$ </td>\n",
    "        <td> $\\searrow$   </td>\n",
    "        <td> $\\downarrow$ </td>\n",
    "        <td> $\\downarrow$ </td>\n",
    "    </tr>\n",
    "    <tr>\n",
    "        <td> O </td>\n",
    "        <td> $\\rightarrow$</td>\n",
    "        <td> $\\rightarrow$</td>\n",
    "        <td> $\\rightarrow$</td>\n",
    "        <td> $\\searrow$</td>\n",
    "        <td> $\\downarrow$</td>\n",
    "    </tr>\n",
    "    <tr>\n",
    "        <td> - </td>\n",
    "        <td> $\\rightarrow$</td>\n",
    "        <td> $\\rightarrow$</td>\n",
    "        <td> $\\rightarrow$</td>\n",
    "        <td> $\\rightarrow$</td>\n",
    "        <td> - </td>\n",
    "    </tr>\n",
    "\n",
    "</table>"
   ]
  },
  {
   "cell_type": "code",
   "execution_count": 1,
   "metadata": {
    "collapsed": true
   },
   "outputs": [],
   "source": [
    "def costLongestSeq(x, y):\n",
    "    ''' \n",
    "    Dynamic Program que calcula el COSTO de la secuencia común mas grande. \n",
    "    \n",
    "    inputs:\n",
    "        - dos strings: x, y.\n",
    "    outputs: \n",
    "        - cost: los costos.\n",
    "        - moves: los movimientos.\n",
    "    '''\n",
    "\n",
    "    x = list(x)\n",
    "    y = list(y)\n",
    "    \n",
    "    x.append('-')\n",
    "    y.append('-')\n",
    "    \n",
    "    erase_x = 1\n",
    "    insert_y = 1\n",
    "\n",
    "    nx = len(x)\n",
    "    ny = len(y)\n",
    "\n",
    "    cost = np.zeros((ny, nx))  # store min\n",
    "    moves = np.zeros((ny, nx)) # store argmin\n",
    "\n",
    "    # llenar la última fila: \n",
    "    for i in reversed(range(nx-1)):\n",
    "        cost[ny-1, i] = erase_x + cost[ny-1, i+1]\n",
    "        moves[ny-1, i] = 1\n",
    "\n",
    "    # llenar la última columna: \n",
    "    for j in reversed(range(ny-1)):\n",
    "        cost[j, nx-1] = insert_y + cost[j+1, nx-1]\n",
    "        moves[j, nx-1] = 2 \n",
    "\n",
    "    for j in reversed(range(ny-1)):\n",
    "        for i in reversed(range(nx-1)):\n",
    "            if x[i] == y[j]:\n",
    "                match = 0\n",
    "            else:\n",
    "                match = np.inf\n",
    "\n",
    "            comp = [match + cost[j+1, i+1],\n",
    "                    erase_x + cost[j, i+1], \n",
    "                    insert_y + cost[j+1, i]]\n",
    "            cost[j, i] = min(comp)\n",
    "            moves[j, i] = np.argmin(comp)\n",
    "            \n",
    "    return cost, moves"
   ]
  },
  {
   "cell_type": "code",
   "execution_count": 2,
   "metadata": {},
   "outputs": [
    {
     "name": "stdout",
     "output_type": "stream",
     "text": [
      "Help on function costLongestSeq in module __main__:\n",
      "\n",
      "costLongestSeq(x, y)\n",
      "    Dynamic Program que calcula el COSTO de la secuencia común mas grande. \n",
      "    \n",
      "    inputs:\n",
      "        - dos strings: x, y.\n",
      "    outputs: \n",
      "        - cost: los costos.\n",
      "        - moves: los movimientos.\n",
      "\n"
     ]
    }
   ],
   "source": [
    "help(costLongestSeq)"
   ]
  },
  {
   "cell_type": "code",
   "execution_count": 41,
   "metadata": {},
   "outputs": [
    {
     "name": "stdout",
     "output_type": "stream",
     "text": [
      "cost = \n",
      " [[ 2.  1.  0.  1.  2.]\n",
      " [ 3.  2.  1.  0.  1.]\n",
      " [ 4.  3.  2.  1.  0.]]\n",
      "moves = \n",
      " [[ 1.  1.  0.  2.  2.]\n",
      " [ 1.  1.  1.  0.  2.]\n",
      " [ 1.  1.  1.  1.  0.]]\n"
     ]
    }
   ],
   "source": [
    "cost, moves = costLongestSeq('halo', 'lo')\n",
    "print('cost = \\n', cost)\n",
    "print('moves = \\n', moves)"
   ]
  },
  {
   "cell_type": "code",
   "execution_count": 278,
   "metadata": {
    "collapsed": true
   },
   "outputs": [],
   "source": [
    "def longestSeq(x, y, moves):\n",
    "    ''' \n",
    "    Calcula la secuencia común mas grande. \n",
    "    \n",
    "    inputs:\n",
    "        - dos strings: x, y.\n",
    "        - una matriz moves de movimientos. \n",
    "    outputs: \n",
    "        - la secuencia común mas larga.\n",
    "    '''\n",
    "    \n",
    "    i = 0\n",
    "    j = 0\n",
    "\n",
    "    word = list(x)\n",
    "\n",
    "    ny = len(list(y))\n",
    "    nx = len(word)\n",
    "\n",
    "    lSeq = []\n",
    "\n",
    "    while j < nx and i < ny:\n",
    "        if moves[i, j] == 0:\n",
    "            # replace x[j] with y[i]\n",
    "            lSeq.append(word[j])\n",
    "            i = i + 1\n",
    "            j = j + 1\n",
    "        elif moves[i, j] == 1:\n",
    "            # delete x[j]\n",
    "            j = j + 1\n",
    "        elif moves[i, j] == 2:\n",
    "            # insert y[i]\n",
    "            i = i + 1        \n",
    "    return(''.join(lSeq))"
   ]
  },
  {
   "cell_type": "code",
   "execution_count": 43,
   "metadata": {},
   "outputs": [
    {
     "name": "stdout",
     "output_type": "stream",
     "text": [
      "Help on function longestSeq in module __main__:\n",
      "\n",
      "longestSeq(x, y, moves)\n",
      "    Calcula la secuencia común mas grande. \n",
      "    \n",
      "    inputs:\n",
      "        - dos strings: x, y.\n",
      "        - una matriz moves de movimientos. \n",
      "    outputs: \n",
      "        - la secuencia común mas larga.\n",
      "\n"
     ]
    }
   ],
   "source": [
    "help(longestSeq)"
   ]
  },
  {
   "cell_type": "code",
   "execution_count": 44,
   "metadata": {},
   "outputs": [
    {
     "data": {
      "text/plain": [
       "'lo'"
      ]
     },
     "execution_count": 44,
     "metadata": {},
     "output_type": "execute_result"
    }
   ],
   "source": [
    "longestSeq('halo', 'lo', moves)"
   ]
  },
  {
   "cell_type": "code",
   "execution_count": 45,
   "metadata": {},
   "outputs": [
    {
     "data": {
      "text/plain": [
       "'hello'"
      ]
     },
     "execution_count": 45,
     "metadata": {},
     "output_type": "execute_result"
    }
   ],
   "source": [
    "x = 'heroglyphology'\n",
    "y = 'michaelangelo'\n",
    "\n",
    "cost, moves = costLongestSeq(x, y)\n",
    "longestSeq(x, y, moves)"
   ]
  },
  {
   "cell_type": "code",
   "execution_count": 29,
   "metadata": {},
   "outputs": [
    {
     "data": {
      "image/png": "[encoded data removed]",
      "text/plain": [
       "<matplotlib.figure.Figure at 0x574259f128>"
      ]
     },
     "metadata": {},
     "output_type": "display_data"
    }
   ],
   "source": [
    "nx = len(x)\n",
    "ny = len(y)\n",
    "\n",
    "import matplotlib.pylab as plt\n",
    "\n",
    "w1 = list(x)\n",
    "w1.insert(0, '')\n",
    "w1.append('-')\n",
    "\n",
    "w2 = list(y)\n",
    "w2.insert(0, '')\n",
    "w2.append('-')\n",
    "\n",
    "im = plt.imshow(moves)\n",
    "ax = plt.gca()\n",
    "ax.set_xticks(np.arange(-.5, nx + 1, 1))\n",
    "ax.set_yticks(np.arange(-.5, ny + 1, 1))\n",
    "ax.set_xticklabels(w1) # np.arange(0, nx + 1, 1)\n",
    "ax.set_yticklabels(w2) # np.arange(0, ny + 1, 1)\n",
    "\n",
    "plt.grid(True)\n",
    "plt.savefig('words.png', dpi=300)\n",
    "plt.show()\n"
   ]
  },
  {
   "cell_type": "markdown",
   "metadata": {},
   "source": [
    "### Ideas interesantes: \n",
    "\n",
    "- $x[:j]$ -> suffix, $x[j:]$ -> prefix\n",
    "- reversed(range(nx-1)) ..., 3, 2, 1, 0\n",
    "- list(x) -> lista\n",
    "- ''.join(lista) -> string\n",
    "- dibujar una matriz. "
   ]
  },
  {
   "cell_type": "markdown",
   "metadata": {},
   "source": [
    "### Ejercicios\n",
    "\n",
    "-------------\n",
    "###### 1. Fibonacci \n",
    "\n",
    "$$ \n",
    "\\begin{cases}\n",
    "\\begin{align*}\n",
    "F_1 &= F_2 = 1 \\\\\n",
    "F_n &= F_{n-1} + F_{n-2}\n",
    "\\end{align*}\n",
    "\\end{cases}\n",
    "$$\n",
    "\n",
    "Calculen $F_n$.\n",
    "\n",
    "<div>\n",
    "<img src='fib2.jpg' width=\"300\" height=\"350\" align=\"\">\n",
    "<img src='fib1.jpg' width=\"300\" height=\"350\" align=\"\">\n",
    "</div>\n",
    "\n",
    "---------------\n",
    "\n",
    "-------------\n",
    "###### 2. Cuántos Caminos?  \n",
    "\n",
    "Consideren una grilla en $\\mathbb{R}^2$. De cuántas formas puedo llegar a $(110, 111)$ desde $(0, 0)$ si solo puedo dar pasos a la derecha y arriba? \n",
    "\n",
    "Pueden calcular la solución usando combinatoria? \n",
    "\n",
    "\n",
    "<img src='path.jpg' width=\"400\" height=\"350\">\n",
    "\n",
    "---------------\n",
    "\n",
    "-------------\n",
    "###### 3. Cambiar el costo  \n",
    "\n",
    "Se les ocurren otros costos para Edit Distance? Cómo harían para comparar dos secuencias de ADN? \n",
    "\n",
    "<img src='seq.jpg' width=\"400\" height=\"350\">\n",
    "\n",
    "---------------"
   ]
  },
  {
   "cell_type": "markdown",
   "metadata": {},
   "source": [
    "# Ejercicios resueltos:"
   ]
  },
  {
   "cell_type": "markdown",
   "metadata": {},
   "source": [
    "### Fibonacci"
   ]
  },
  {
   "cell_type": "code",
   "execution_count": 7,
   "metadata": {
    "collapsed": true
   },
   "outputs": [],
   "source": [
    "def fib(n):\n",
    "    '''\n",
    "    returns the nth Fibonacci number. \n",
    "    '''\n",
    "    if n<=2: \n",
    "        f = 1\n",
    "    else:\n",
    "        f = fib(n-1) + fib(n-2)\n",
    "    return(f)"
   ]
  },
  {
   "cell_type": "code",
   "execution_count": 66,
   "metadata": {},
   "outputs": [
    {
     "name": "stdout",
     "output_type": "stream",
     "text": [
      "Help on function fib in module __main__:\n",
      "\n",
      "fib(n)\n",
      "    returns the nth Fibonacci number.\n",
      "\n"
     ]
    },
    {
     "data": {
      "text/plain": [
       "8"
      ]
     },
     "execution_count": 66,
     "metadata": {},
     "output_type": "execute_result"
    }
   ],
   "source": [
    "help(fib)\n",
    "\n",
    "fib(6)"
   ]
  },
  {
   "cell_type": "code",
   "execution_count": 67,
   "metadata": {
    "collapsed": true
   },
   "outputs": [],
   "source": [
    "memo = {} # no poner esto en el mismo cell que la def de fibMemoized"
   ]
  },
  {
   "cell_type": "code",
   "execution_count": 68,
   "metadata": {
    "collapsed": true
   },
   "outputs": [],
   "source": [
    "def fibMemoized(n):\n",
    "    '''\n",
    "    returns the nth Fibonacci number. \n",
    "    Memoized version.\n",
    "    '''\n",
    "    if str(n) in memo:\n",
    "        return(memo[str(n)])\n",
    "    else:\n",
    "        if n<=2: f = 1\n",
    "        else: f = fibMemoized(n-1) + fibMemoized(n-2)\n",
    "        memo[str(n)] = f\n",
    "        return(f)"
   ]
  },
  {
   "cell_type": "code",
   "execution_count": 69,
   "metadata": {},
   "outputs": [
    {
     "name": "stdout",
     "output_type": "stream",
     "text": [
      "Help on function fibMemoized in module __main__:\n",
      "\n",
      "fibMemoized(n)\n",
      "    returns the nth Fibonacci number. \n",
      "    Memoized version.\n",
      "\n"
     ]
    }
   ],
   "source": [
    "help(fibMemoized)"
   ]
  },
  {
   "cell_type": "code",
   "execution_count": 78,
   "metadata": {},
   "outputs": [
    {
     "data": {
      "text/plain": [
       "8"
      ]
     },
     "execution_count": 78,
     "metadata": {},
     "output_type": "execute_result"
    }
   ],
   "source": [
    "fibMemoized(6)"
   ]
  },
  {
   "cell_type": "code",
   "execution_count": 79,
   "metadata": {},
   "outputs": [
    {
     "data": {
      "text/plain": [
       "{'1': 1, '2': 1, '3': 2, '4': 3, '5': 5, '6': 8}"
      ]
     },
     "execution_count": 79,
     "metadata": {},
     "output_type": "execute_result"
    }
   ],
   "source": [
    "memo"
   ]
  },
  {
   "cell_type": "code",
   "execution_count": 80,
   "metadata": {},
   "outputs": [
    {
     "data": {
      "text/plain": [
       "{'1': 1, '2': 1, '3': 2, '4': 3, '5': 5, '6': 8}"
      ]
     },
     "execution_count": 80,
     "metadata": {},
     "output_type": "execute_result"
    }
   ],
   "source": [
    "fibMemoized(4)\n",
    "memo"
   ]
  },
  {
   "cell_type": "markdown",
   "metadata": {},
   "source": [
    "### Caminos\n",
    "\n",
    "idea: \n",
    "\n",
    "Si quiero llegar desde (0, 0) hasta (x, y), en algún momento voy a llegar a la izquierda (B) o abajo (A). \n",
    "\n",
    "<img src='caminos.png' width=\"300\" height=\"350\" align=\"\">\n",
    "\n",
    "El número de caminos totales es la suma de todos los que llegan hasta (A) mas los que llegan a (B)."
   ]
  },
  {
   "cell_type": "code",
   "execution_count": 188,
   "metadata": {
    "collapsed": true
   },
   "outputs": [],
   "source": [
    "def nCaminos(x, y):\n",
    "    '''\n",
    "    number of paths from the origin to (x, y)\n",
    "    allowed moves: up and right\n",
    "    '''\n",
    "    if 0 == x or y == 0: \n",
    "        # solo hay un camino para puntos en el borde. \n",
    "        ncaminos = 1\n",
    "    elif 0 < x and 0 < y:\n",
    "        # llegan hasta (A) + llegan hasta (B)\n",
    "        ncaminos = nCaminos(x-1, y) + nCaminos(x, y-1)\n",
    "    return(ncaminos)"
   ]
  },
  {
   "cell_type": "code",
   "execution_count": 189,
   "metadata": {},
   "outputs": [
    {
     "name": "stdout",
     "output_type": "stream",
     "text": [
      "Help on function nCaminos in module __main__:\n",
      "\n",
      "nCaminos(x, y)\n",
      "    number of paths from the origin to (x, y)\n",
      "    allowed moves: up and right\n",
      "\n"
     ]
    }
   ],
   "source": [
    "help(nCaminos)"
   ]
  },
  {
   "cell_type": "code",
   "execution_count": 190,
   "metadata": {},
   "outputs": [
    {
     "data": {
      "text/plain": [
       "6"
      ]
     },
     "execution_count": 190,
     "metadata": {},
     "output_type": "execute_result"
    }
   ],
   "source": [
    "nCaminos(2, 2)"
   ]
  },
  {
   "cell_type": "code",
   "execution_count": 267,
   "metadata": {
    "collapsed": true
   },
   "outputs": [],
   "source": [
    "memo = {}"
   ]
  },
  {
   "cell_type": "code",
   "execution_count": 268,
   "metadata": {
    "collapsed": true
   },
   "outputs": [],
   "source": [
    "def nCaminosDP(x, y):\n",
    "    '''\n",
    "    number of paths from the origin to (x, y)\n",
    "    allowed moves: up and right\n",
    "    Memoized version\n",
    "    '''\n",
    "    if str((x, y)) in memo:\n",
    "        return(memo[str((x, y))])\n",
    "    else:\n",
    "        if 0 == x or y == 0:  \n",
    "            ncaminos = 1 \n",
    "        elif 0 < x and 0 < y: \n",
    "            ncaminos = nCaminosDP(x-1, y) + nCaminosDP(x, y-1)\n",
    "        memo[str((x, y))] = ncaminos\n",
    "    return(ncaminos)"
   ]
  },
  {
   "cell_type": "code",
   "execution_count": 269,
   "metadata": {},
   "outputs": [
    {
     "name": "stdout",
     "output_type": "stream",
     "text": [
      "Help on function nCaminosDP in module __main__:\n",
      "\n",
      "nCaminosDP(x, y)\n",
      "    number of paths from the origin to (x, y)\n",
      "    allowed moves: up and right\n",
      "    Memoized version\n",
      "\n"
     ]
    }
   ],
   "source": [
    "help(nCaminosDP)"
   ]
  },
  {
   "cell_type": "code",
   "execution_count": 270,
   "metadata": {},
   "outputs": [
    {
     "data": {
      "text/plain": [
       "6"
      ]
     },
     "execution_count": 270,
     "metadata": {},
     "output_type": "execute_result"
    }
   ],
   "source": [
    "nCaminosDP(2, 2)"
   ]
  },
  {
   "cell_type": "code",
   "execution_count": 271,
   "metadata": {},
   "outputs": [
    {
     "data": {
      "text/plain": [
       "{'(0, 1)': 1,\n",
       " '(0, 2)': 1,\n",
       " '(1, 0)': 1,\n",
       " '(1, 1)': 2,\n",
       " '(1, 2)': 3,\n",
       " '(2, 0)': 1,\n",
       " '(2, 1)': 3,\n",
       " '(2, 2)': 6}"
      ]
     },
     "execution_count": 271,
     "metadata": {},
     "output_type": "execute_result"
    }
   ],
   "source": [
    "memo"
   ]
  },
  {
   "cell_type": "code",
   "execution_count": 272,
   "metadata": {},
   "outputs": [
    {
     "data": {
      "text/plain": [
       "{'(0, 1)': 1,\n",
       " '(0, 2)': 1,\n",
       " '(1, 0)': 1,\n",
       " '(1, 1)': 2,\n",
       " '(1, 2)': 3,\n",
       " '(2, 0)': 1,\n",
       " '(2, 1)': 3,\n",
       " '(2, 2)': 6}"
      ]
     },
     "execution_count": 272,
     "metadata": {},
     "output_type": "execute_result"
    }
   ],
   "source": [
    "nCaminosDP(1, 2)\n",
    "memo"
   ]
  },
  {
   "cell_type": "markdown",
   "metadata": {},
   "source": [
    "### Edit distance ADN\n",
    "\n",
    "Tratamos de encontrar la manera mas barata de transformar una secuencia de ADN x, en otra y. \n",
    "\n",
    "Voy a usar el código de la clase. Solo voy a modificar los costos.  \n",
    "\n",
    "- Reemplazar la base $x[i]$ por $y[j]$ cuesta $1$.\n",
    "\n",
    "- Borrar la base $x[i]$ cuesta 2.\n",
    "\n",
    "- Insertar la base $y[j]$ antes de $x[i]$ cuesta 2. \n",
    "\n",
    "La idea es que cambiar una base es 2 veces mas probable que borrar o insertar una. "
   ]
  },
  {
   "cell_type": "code",
   "execution_count": 281,
   "metadata": {
    "collapsed": true
   },
   "outputs": [],
   "source": [
    "def costLongestSeqADN(x, y):\n",
    "    ''' \n",
    "    Dynamic Program que calcula el COSTO de transformar una secuencia de AND en otra. \n",
    "    \n",
    "    inputs:\n",
    "        - dos secuencias de ADN: x, y.\n",
    "    outputs: \n",
    "        - cost: los costos.\n",
    "        - moves: los movimientos.\n",
    "    '''\n",
    "\n",
    "    x = list(x)\n",
    "    y = list(y)\n",
    "    \n",
    "    x.append('-')\n",
    "    y.append('-')\n",
    "    \n",
    "    erase_x = 2\n",
    "    insert_y = 2\n",
    "    replace_x_y = 1\n",
    "\n",
    "    nx = len(x)\n",
    "    ny = len(y)\n",
    "\n",
    "    cost = np.zeros((ny, nx))  # store min\n",
    "    moves = np.zeros((ny, nx)) # store argmin\n",
    "\n",
    "    # llenar la última fila: \n",
    "    for i in reversed(range(nx-1)):\n",
    "        cost[ny-1, i] = erase_x + cost[ny-1, i+1]\n",
    "        moves[ny-1, i] = 1\n",
    "\n",
    "    # llenar la última columna: \n",
    "    for j in reversed(range(ny-1)):\n",
    "        cost[j, nx-1] = insert_y + cost[j+1, nx-1]\n",
    "        moves[j, nx-1] = 2 \n",
    "\n",
    "    for j in reversed(range(ny-1)):\n",
    "        for i in reversed(range(nx-1)):\n",
    "            \n",
    "            comp = [replace_x_y + cost[j+1, i+1],\n",
    "                    erase_x + cost[j, i+1], \n",
    "                    insert_y + cost[j+1, i]]\n",
    "            cost[j, i] = min(comp)\n",
    "            moves[j, i] = np.argmin(comp)\n",
    "            \n",
    "    return cost, moves "
   ]
  },
  {
   "cell_type": "code",
   "execution_count": 282,
   "metadata": {},
   "outputs": [
    {
     "name": "stdout",
     "output_type": "stream",
     "text": [
      "cost = \n",
      " [[  9.  10.  11.  12.  13.  14.  15.  16.]\n",
      " [  7.   8.   9.  10.  11.  12.  13.  14.]\n",
      " [  8.   6.   7.   8.   9.  10.  11.  12.]\n",
      " [  9.   7.   5.   6.   7.   8.   9.  10.]\n",
      " [ 10.   8.   6.   4.   5.   6.   7.   8.]\n",
      " [ 11.   9.   7.   5.   3.   4.   5.   6.]\n",
      " [ 12.  10.   8.   6.   4.   2.   3.   4.]\n",
      " [ 13.  11.   9.   7.   5.   3.   1.   2.]\n",
      " [ 14.  12.  10.   8.   6.   4.   2.   0.]]\n",
      "moves = \n",
      " [[ 0.  0.  0.  0.  0.  0.  0.  2.]\n",
      " [ 0.  0.  0.  0.  0.  0.  0.  2.]\n",
      " [ 0.  0.  0.  0.  0.  0.  0.  2.]\n",
      " [ 0.  0.  0.  0.  0.  0.  0.  2.]\n",
      " [ 0.  0.  0.  0.  0.  0.  0.  2.]\n",
      " [ 0.  0.  0.  0.  0.  0.  0.  2.]\n",
      " [ 0.  0.  0.  0.  0.  0.  0.  2.]\n",
      " [ 0.  0.  0.  0.  0.  0.  0.  2.]\n",
      " [ 1.  1.  1.  1.  1.  1.  1.  0.]]\n"
     ]
    }
   ],
   "source": [
    "cost, moves = costLongestSeqADN('AACGTGG', 'GAAATAGG')\n",
    "print('cost = \\n', cost)\n",
    "print('moves = \\n', moves)"
   ]
  },
  {
   "cell_type": "code",
   "execution_count": 283,
   "metadata": {},
   "outputs": [
    {
     "data": {
      "text/plain": [
       "'AACGTGG'"
      ]
     },
     "execution_count": 283,
     "metadata": {},
     "output_type": "execute_result"
    }
   ],
   "source": [
    "longestSeq('AACGTGG', 'GGGGTAGG', moves)"
   ]
  },
  {
   "cell_type": "markdown",
   "metadata": {},
   "source": [
    "No funciona tan bien, se les ocurren mejores costos? Por ejemplo, parece que $C \\rightarrow G$ es común - costo bajo. "
   ]
  }
 ],
 "metadata": {
  "kernelspec": {
   "display_name": "Python 3",
   "language": "python",
   "name": "python3"
  },
  "language_info": {
   "codemirror_mode": {
    "name": "ipython",
    "version": 3
   },
   "file_extension": ".py",
   "mimetype": "text/x-python",
   "name": "python",
   "nbconvert_exporter": "python",
   "pygments_lexer": "ipython3",
   "version": "3.6.2"
  }
 },
 "nbformat": 4,
 "nbformat_minor": 2
}
