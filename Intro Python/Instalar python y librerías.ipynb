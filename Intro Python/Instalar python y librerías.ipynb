{
 "cells": [
  {
   "cell_type": "markdown",
   "metadata": {},
   "source": [
    "### Anaconda\n",
    "\n",
    "Prilmero instalen anaconda: \n",
    "\n",
    "https://anaconda.org/\n",
    "\n",
    "Luego abran una terminal(en unix o win powershell) y escriban: \n",
    "\n",
    "- pip install cobra\n",
    "\n",
    "\n",
    "### Cvxpy\n",
    "\n",
    "y si pueden instalen CVXpy\n",
    "\n",
    "- pip install cvxpy\n",
    "\n",
    "Si tienen problemas probablemente van a tener que instalar ecos manualmente usando el archivo que está aqui:\n",
    "\n",
    "https://www.lfd.uci.edu/~gohlke/pythonlibs/\n",
    "\n",
    "y siguiendo las intrucciones descritas aquí:\n",
    "\n",
    "https://stackoverflow.com/questions/27885397/how-do-i-install-a-python-package-with-a-whl-file\n",
    "\n",
    "En definitiva hay que:\n",
    "\n",
    "1. Bajarse el .whl correspondiente a python 3.6.\n",
    "2. escribir en la terminal: \n",
    "\n",
    "    pip install path_to_lib.whl\n",
    "\n",
    "\n",
    "\n",
    "### Github\n",
    "\n",
    "Si tienen tiempo y ganas aprendan a usar github: \n",
    "\n",
    "http://rogerdudler.github.io/git-guide/\n",
    "\n",
    "https://help.github.com/articles/adding-an-existing-project-to-github-using-the-command-line/\n",
    "\n",
    "\n",
    "### Documentos\n",
    "\n",
    "Todos los documentos están en mi git: \n",
    "\n",
    "https://github.com/notblank/Curso-Redes-Met\n",
    "\n",
    "Si tienen preguntas me pueden escribir a: \n",
    "\n",
    "fj.zertuche@uta.edu.ec"
   ]
  }
 ],
 "metadata": {
  "kernelspec": {
   "display_name": "Python 3",
   "language": "python",
   "name": "python3"
  },
  "language_info": {
   "codemirror_mode": {
    "name": "ipython",
    "version": 3
   },
   "file_extension": ".py",
   "mimetype": "text/x-python",
   "name": "python",
   "nbconvert_exporter": "python",
   "pygments_lexer": "ipython3",
   "version": "3.6.2"
  }
 },
 "nbformat": 4,
 "nbformat_minor": 2
}
